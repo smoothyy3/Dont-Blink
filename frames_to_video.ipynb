{
 "cells": [
  {
   "cell_type": "code",
   "execution_count": null,
   "metadata": {},
   "outputs": [],
   "source": [
    "import cv2\n",
    "import os\n",
    "\n",
    "frames_path = \"C:\\\\Users\\\\Fabio\\\\Desktop\\\\TestOutput\"\n",
    "video_path = \"C:\\\\Users\\\\Fabio\\\\Desktop\\\\timelapse.mp4\"\n",
    "FPS = 25\n",
    "\n",
    "images = [img for img in os.listdir(frames_path) if img.endswith(\".jpg\")]\n",
    "\n",
    "first_frame = cv2.imread(os.path.join(frames_path, images[0]))\n",
    "h, w, _ = first_frame.shape\n",
    "\n",
    "fourcc = cv2.VideoWriter_fourcc(*\"mp4v\")\n",
    "out = cv2.VideoWriter(video_path, fourcc, FPS, (w, h))\n",
    "\n",
    "for image in images:\n",
    "    frame = cv2.imread(os.path.join(frames_path, image))\n",
    "    out.write(frame)\n",
    "\n",
    "out.release()\n",
    "print(f\"jo\")"
   ]
  }
 ],
 "metadata": {
  "kernelspec": {
   "display_name": "ai_env",
   "language": "python",
   "name": "python3"
  },
  "language_info": {
   "name": "python",
   "version": "3.11.11"
  }
 },
 "nbformat": 4,
 "nbformat_minor": 2
}
