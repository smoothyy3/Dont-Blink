{
 "cells": [
  {
   "cell_type": "code",
   "execution_count": 20,
   "metadata": {},
   "outputs": [
    {
     "name": "stdout",
     "output_type": "stream",
     "text": [
      "jo\n"
     ]
    }
   ],
   "source": [
    "import cv2\n",
    "import os\n",
    "from natsort import natsorted\n",
    "\n",
    "frames_path = \"C:\\\\Users\\\\Fabio\\\\Desktop\\\\TestOutput\"\n",
    "video_path = \"C:\\\\Users\\\\Fabio\\\\Desktop\\\\timelapse.mp4\"\n",
    "FPS = 15\n",
    "\n",
    "images = [img for img in os.listdir(frames_path) if img.endswith(\".jpg\")]\n",
    "images = natsorted(images)\n",
    "\n",
    "first_frame = cv2.imread(os.path.join(frames_path, images[0]))\n",
    "h, w, _ = first_frame.shape\n",
    "\n",
    "fourcc = cv2.VideoWriter_fourcc(*\"mp4v\")\n",
    "out = cv2.VideoWriter(video_path, fourcc, FPS, (w, h))\n",
    "\n",
    "for image in images:\n",
    "    frame = cv2.imread(os.path.join(frames_path, image))\n",
    "    out.write(frame)\n",
    "\n",
    "out.release()\n",
    "print(f\"jo\")"
   ]
  }
 ],
 "metadata": {
  "kernelspec": {
   "display_name": "ai_env",
   "language": "python",
   "name": "python3"
  },
  "language_info": {
   "codemirror_mode": {
    "name": "ipython",
    "version": 3
   },
   "file_extension": ".py",
   "mimetype": "text/x-python",
   "name": "python",
   "nbconvert_exporter": "python",
   "pygments_lexer": "ipython3",
   "version": "3.11.11"
  }
 },
 "nbformat": 4,
 "nbformat_minor": 2
}
