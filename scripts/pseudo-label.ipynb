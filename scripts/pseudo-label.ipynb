{
 "cells": [
  {
   "cell_type": "code",
   "execution_count": 6,
   "metadata": {},
   "outputs": [],
   "source": [
    "import os\n",
    "from ultralytics import YOLO"
   ]
  },
  {
   "cell_type": "markdown",
   "metadata": {},
   "source": [
    "**NEW_IMAGES_PATH**: Set this to the folder containing the images you want to label (e.g., \"/Users/yourname/Desktop/project/new_images\").  \n",
    "**MODEL_WEIGHTS**: Set this to the path of the trained YOLO model (e.g., \"/Users/yourname/Desktop/project/runs/train/best.pt\")."
   ]
  },
  {
   "cell_type": "code",
   "execution_count": 7,
   "metadata": {},
   "outputs": [],
   "source": [
    "NEW_IMAGES_PATH = \"/Users/jonas/Desktop/private-git/Dont-Blink/runs/pseudo-label/03.03.25/images\"\n",
    "MODEL_WEIGHTS = \"/Users/jonas/Desktop/private-git/Dont-Blink/runs/detect/cuda_train/best.pt\""
   ]
  },
  {
   "cell_type": "code",
   "execution_count": null,
   "metadata": {},
   "outputs": [],
   "source": [
    "model = YOLO(MODEL_WEIGHTS)\n",
    "results = model.predict(source=NEW_IMAGES_PATH, save_txt=True, save=True, conf=0.5)"
   ]
  }
 ],
 "metadata": {
  "kernelspec": {
   "display_name": "aki",
   "language": "python",
   "name": "python3"
  },
  "language_info": {
   "codemirror_mode": {
    "name": "ipython",
    "version": 3
   },
   "file_extension": ".py",
   "mimetype": "text/x-python",
   "name": "python",
   "nbconvert_exporter": "python",
   "pygments_lexer": "ipython3",
   "version": "3.11.8"
  }
 },
 "nbformat": 4,
 "nbformat_minor": 2
}
