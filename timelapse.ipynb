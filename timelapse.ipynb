{
 "cells": [
  {
   "cell_type": "markdown",
   "metadata": {},
   "source": [
    "# **Generate a timelapse from existing video**  \n",
    "  \n",
    "### **Table of Contents**\n",
    "1. [Set Paths](#paths)\n",
    "2. [YOLO-Model](#model)\n",
    "3. [Parameters](#params)\n",
    "4. [Process video](#process_video)"
   ]
  },
  {
   "cell_type": "code",
   "execution_count": 21,
   "metadata": {},
   "outputs": [],
   "source": [
    "from ultralytics import YOLO\n",
    "import os\n",
    "import cv2\n",
    "import math"
   ]
  },
  {
   "cell_type": "markdown",
   "metadata": {},
   "source": [
    "### **Set Paths** <a id=\"paths\"></a>"
   ]
  },
  {
   "cell_type": "markdown",
   "metadata": {},
   "source": [
    "`video` = path to the raw video of the printing video  \n",
    "`weights` = best weights for yolo model achieved during training  \n",
    "`outputFolder` = path to store the created timelapse"
   ]
  },
  {
   "cell_type": "code",
   "execution_count": 22,
   "metadata": {},
   "outputs": [],
   "source": [
    "video = \"C:\\\\Users\\\\Fabio\\\\Desktop\\\\VideoLeft.mp4\"\n",
    "weights = \"runs/detect/train/weights/04.03.25_left.pt\"\n",
    "outputFolder = \"C:\\\\Users\\\\Fabio\\\\Desktop\\\\TestOutput\""
   ]
  },
  {
   "cell_type": "markdown",
   "metadata": {},
   "source": [
    "---"
   ]
  },
  {
   "cell_type": "markdown",
   "metadata": {},
   "source": [
    "### **Import trained YOLO model** <a id=\"model\"></a>\n",
    "* currently using YOLOV8"
   ]
  },
  {
   "cell_type": "code",
   "execution_count": 23,
   "metadata": {},
   "outputs": [],
   "source": [
    "model = YOLO(weights)"
   ]
  },
  {
   "cell_type": "markdown",
   "metadata": {},
   "source": [
    "---"
   ]
  },
  {
   "cell_type": "markdown",
   "metadata": {},
   "source": [
    "### **Set parameters**  <a id=\"params\"></a>\n",
    "* before processing we need to capture fps, set params for tracking and frame skipping"
   ]
  },
  {
   "cell_type": "code",
   "execution_count": null,
   "metadata": {},
   "outputs": [],
   "source": [
    "cap = cv2.VideoCapture(0)\n",
    "\n",
    "# get raw vid fps\n",
    "if cap.get(cv2.CAP_PROP_FPS) == 30:\n",
    "    fSkip = 7.5\n",
    "else:\n",
    "    fSkip = math.ceil(cap.get(cv2.CAP_PROP_FPS)/4)\n",
    "\n",
    "prevX = 1\n",
    "lastWasTheSame = False\n",
    "wiggleRoom = 0.003\n",
    "frame_skip = fSkip\n",
    "frame_count = 0\n",
    "x = None"
   ]
  },
  {
   "cell_type": "markdown",
   "metadata": {},
   "source": [
    "---"
   ]
  },
  {
   "cell_type": "markdown",
   "metadata": {},
   "source": [
    "### **Process Video Frame-by-Frame** <a id=\"process_video\"></a>\n",
    "* The while loop reads the video frame by frame, detects the printhead's position, and saves the necessary images."
   ]
  },
  {
   "cell_type": "code",
   "execution_count": null,
   "metadata": {},
   "outputs": [],
   "source": [
    "while cap.isOpened():\n",
    "    ret, frame = cap.read()\n",
    "    \n",
    "    \n",
    "    \n",
    "    if not ret:\n",
    "        break\n",
    "\n",
    "    # extract dimensions once on first frame\n",
    "    if frame_count == 0:\n",
    "        hImg, wImg, _ = frame.shape\n",
    "\n",
    "    if frame_count % frame_skip == 0:\n",
    "        results = model.predict(frame)\n",
    "        frame_skip = fSkip\n",
    "\n",
    "        for r in results:\n",
    "            for box in r.boxes:\n",
    "                x, y, w, h = box.xywh[0].tolist() # Get the x, y, w, h coordinates.\n",
    "                xNorm, yNorm, wNorm, hNorm =  x/wImg, y/hImg, w/wImg, h/hImg\n",
    "\n",
    "                if abs(xNorm - prevX) < wiggleRoom:\n",
    "                    if not lastWasTheSame:\n",
    "                        lastWasTheSame = True\n",
    "                    else:\n",
    "                        lastWasTheSame = False\n",
    "                        filename = os.path.join(outputFolder, f\"frame_{frame_count}.jpg\")\n",
    "                        cv2.imwrite(filename, frame)\n",
    "                        frame_skip = 100\n",
    "                        \n",
    "                if prevX > xNorm:\n",
    "                    prevX =  xNorm\n",
    "    frame_count += 1\n",
    "    if cv2.waitKey(1) == ord('q'):\n",
    "        break\n",
    "\n",
    "cap.release()\n",
    "cv2.destroyAllWindows()"
   ]
  }
 ],
 "metadata": {
  "kernelspec": {
   "display_name": "ai_env",
   "language": "python",
   "name": "python3"
  },
  "language_info": {
   "codemirror_mode": {
    "name": "ipython",
    "version": 3
   },
   "file_extension": ".py",
   "mimetype": "text/x-python",
   "name": "python",
   "nbconvert_exporter": "python",
   "pygments_lexer": "ipython3",
   "version": "3.11.11"
  }
 },
 "nbformat": 4,
 "nbformat_minor": 2
}
