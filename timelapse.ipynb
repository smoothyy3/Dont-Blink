{
 "cells": [
  {
   "cell_type": "code",
   "execution_count": 231,
   "metadata": {},
   "outputs": [],
   "source": [
    "from ultralytics import YOLO\n",
    "import os\n",
    "import cv2"
   ]
  },
  {
   "cell_type": "code",
   "execution_count": 232,
   "metadata": {},
   "outputs": [],
   "source": [
    "video = \"C:\\\\Users\\\\Fabio\\\\Desktop\\\\TestVideo.mp4\"\n",
    "weights = \"runs/detect/train11/weights/best.pt\"\n",
    "outputFolder = \"C:\\\\Users\\\\Fabio\\\\Desktop\\\\TestOutput\""
   ]
  },
  {
   "cell_type": "code",
   "execution_count": null,
   "metadata": {},
   "outputs": [],
   "source": [
    "model = YOLO(weights)\n",
    "cap = cv2.VideoCapture(video)\n",
    "prevX = 1\n",
    "lastWasTheSame = False\n",
    "wiggleRoom = 0.003\n",
    "fSkip = 7\n",
    "ret, frame = cap.read()\n",
    "hImg,wImg,_ = frame.shape\n",
    "\n"
   ]
  },
  {
   "cell_type": "code",
   "execution_count": 234,
   "metadata": {},
   "outputs": [
    {
     "name": "stdout",
     "output_type": "stream",
     "text": [
      "\n",
      "0: 384x640 1 Printheads, 7.7ms\n",
      "Speed: 2.1ms preprocess, 7.7ms inference, 2.1ms postprocess per image at shape (1, 3, 384, 640)\n"
     ]
    }
   ],
   "source": [
    "frame_skip = fSkip\n",
    "\n",
    "frame_count = 0\n",
    "x = None\n",
    "while cap.isOpened():\n",
    "    ret, frame = cap.read()\n",
    "    if not ret:\n",
    "        break\n",
    "\n",
    "    if frame_count % frame_skip == 0:\n",
    "        results = model.predict(frame)\n",
    "        frame_skip = fSkip\n",
    "        for r in results:\n",
    "            for box in r.boxes:\n",
    "                x, y, w, h = box.xywh[0].tolist() # Get the x, y, w, h coordinates.\n",
    "                xNorm, yNorm, wNorm, hNorm =  x/wImg, y/hImg, w/wImg, h/hImg\n",
    "                if abs(xNorm - prevX) < wiggleRoom:\n",
    "                    if not lastWasTheSame:\n",
    "                        lastWasTheSame = True\n",
    "                    else:\n",
    "                        lastWasTheSame = False\n",
    "                        filename = os.path.join(outputFolder, f\"frame_{frame_count}.jpg\")\n",
    "                        cv2.imwrite(filename, frame)\n",
    "                        frame_skip = 100\n",
    "                if prevX > xNorm:\n",
    "                    prevX =  xNorm\n",
    "    frame_count += 1\n",
    "\n",
    "cap.release()\n",
    "cv2.destroyAllWindows()"
   ]
  }
 ],
 "metadata": {
  "kernelspec": {
   "display_name": "ai_env",
   "language": "python",
   "name": "python3"
  },
  "language_info": {
   "codemirror_mode": {
    "name": "ipython",
    "version": 3
   },
   "file_extension": ".py",
   "mimetype": "text/x-python",
   "name": "python",
   "nbconvert_exporter": "python",
   "pygments_lexer": "ipython3",
   "version": "3.11.11"
  }
 },
 "nbformat": 4,
 "nbformat_minor": 2
}
